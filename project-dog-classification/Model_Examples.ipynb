{
 "cells": [
  {
   "cell_type": "markdown",
   "metadata": {},
   "source": [
    "Setup loaders..."
   ]
  },
  {
   "cell_type": "code",
   "execution_count": 8,
   "metadata": {},
   "outputs": [
    {
     "name": "stdout",
     "output_type": "stream",
     "text": [
      "There are 13233 total human images.\n",
      "There are 8351 total dog images.\n"
     ]
    }
   ],
   "source": [
    "import numpy as np\n",
    "from glob import glob\n",
    "\n",
    "# load filenames for human and dog images\n",
    "human_files = np.array(glob(\"data/lfw/*/*\"))\n",
    "dog_files = np.array(glob(\"data/dogImages/*/*/*\"))\n",
    "\n",
    "# print number of images in each dataset\n",
    "print('There are %d total human images.' % len(human_files))\n",
    "print('There are %d total dog images.' % len(dog_files))"
   ]
  },
  {
   "cell_type": "code",
   "execution_count": 1,
   "metadata": {},
   "outputs": [
    {
     "name": "stdout",
     "output_type": "stream",
     "text": [
      "Number of training images: 6680\n",
      "Number of validation images: 835\n",
      "Number of testing images: 836\n",
      "Transforms and Loaders setup...\n"
     ]
    }
   ],
   "source": [
    "# batch loader...\n",
    "\n",
    "import os\n",
    "import torch\n",
    "from torchvision import datasets,transforms\n",
    "from PIL import Image\n",
    "import matplotlib.pyplot as plt\n",
    "\n",
    "### TODO: Write data loaders for training, validation, and test sets\n",
    "## Specify appropriate transforms, and batch_sizes\n",
    "# variables\n",
    "batch_size = 10\n",
    "num_workers = 1\n",
    "\n",
    "# image paths\n",
    "train_folder = \"data/dogImages/train\"\n",
    "valid_folder = \"data/dogImages/valid\"\n",
    "test_folder = \"data/dogImages/test\"\n",
    "\n",
    "# transforms\n",
    "train_transforms = transforms.Compose([transforms.ColorJitter(brightness=0.25,saturation=0.15),\n",
    "                                    transforms.RandomRotation(15),\n",
    "                                    transforms.RandomHorizontalFlip(),\n",
    "                                    transforms.RandomResizedCrop(224),\n",
    "                                    transforms.ToTensor(),\n",
    "                                    transforms.Normalize(mean=[0.485, 0.456, 0.406],std=[0.229, 0.224, 0.225])]) \n",
    "test_transforms = transforms.Compose([transforms.Resize(224),\n",
    "                                    transforms.ToTensor(),\n",
    "                                    transforms.Normalize(mean=[0.485, 0.456, 0.406],std=[0.229, 0.224, 0.225])]) \n",
    "\n",
    "\n",
    "# data loaders\n",
    "train_data = datasets.ImageFolder(train_folder, transform=train_transforms)\n",
    "valid_data = datasets.ImageFolder(valid_folder, transform=test_transforms)\n",
    "test_data = datasets.ImageFolder(test_folder, transform=test_transforms)\n",
    "\n",
    "train_loader = torch.utils.data.DataLoader(train_data, batch_size=batch_size, shuffle=True)\n",
    "valid_loader = torch.utils.data.DataLoader(valid_data, batch_size=batch_size)\n",
    "test_loader = torch.utils.data.DataLoader(test_data, batch_size=batch_size)\n",
    "\n",
    "# loaders dict\n",
    "loaders_scratch={\n",
    "    \"train\":train_loader,\n",
    "    \"valid\":valid_loader,\n",
    "    \"test\": test_loader\n",
    "}\n",
    "\n",
    "print('Number of training images: ' + str(len(train_data)))\n",
    "print('Number of validation images: ' + str(len(valid_data)))\n",
    "print('Number of testing images: ' + str(len(test_data)))\n",
    "\n",
    "print('Transforms and Loaders setup...')\n"
   ]
  },
  {
   "cell_type": "markdown",
   "metadata": {},
   "source": [
    "CNN Simple Example"
   ]
  },
  {
   "cell_type": "code",
   "execution_count": 18,
   "metadata": {},
   "outputs": [
    {
     "name": "stderr",
     "output_type": "stream",
     "text": [
      "Downloading: \"https://download.pytorch.org/models/resnet18-5c106cde.pth\" to /home/emaggard/.torch/models/resnet18-5c106cde.pth\n",
      "100%|██████████| 46827520/46827520 [00:19<00:00, 2383641.02it/s]"
     ]
    },
    {
     "name": "stdout",
     "output_type": "stream",
     "text": [
      "Pretrained resnet18 model setup... \n"
     ]
    },
    {
     "name": "stderr",
     "output_type": "stream",
     "text": [
      "\n"
     ]
    }
   ],
   "source": [
    "import torch\n",
    "import torchvision.models as models\n",
    "\n",
    "# define VGG16 model\n",
    "pre_model = models.resnet18(pretrained=True)\n",
    "\n",
    "# check if CUDA is available\n",
    "use_cuda = torch.cuda.is_available()\n",
    "\n",
    "# move model to GPU if CUDA is available\n",
    "if use_cuda:\n",
    "    pre_model = pre_model.cuda()\n",
    "    \n",
    "print('Pretrained resnet18 model setup... ')"
   ]
  },
  {
   "cell_type": "code",
   "execution_count": 4,
   "metadata": {},
   "outputs": [],
   "source": [
    "from PIL import Image\n",
    "import torchvision.transforms as transforms\n",
    "\n",
    "# Set PIL to be tolerant of image files that are truncated.\n",
    "from PIL import ImageFile\n",
    "ImageFile.LOAD_TRUNCATED_IMAGES = True\n",
    "\n",
    "def pre_predict(img_path):\n",
    "    '''\n",
    "    Use pre-trained VGG-16 model to obtain index corresponding to \n",
    "    predicted ImageNet class for image at specified path\n",
    "    \n",
    "    Args:\n",
    "        img_path: path to an image\n",
    "        \n",
    "    Returns:\n",
    "        Index corresponding to VGG-16 model's prediction\n",
    "    '''\n",
    "    \n",
    "    ## TODO: Complete the function.\n",
    "    ## Load and pre-process an image from the given img_path\n",
    "    pre_model.eval()  # need to set to eval mode\n",
    "    img = Image.open(img_path)\n",
    "    img_transform = transforms.Compose([\n",
    "                        transforms.Resize(size=(224, 224)),\n",
    "                        transforms.ToTensor(),\n",
    "                        transforms.Normalize(mean=[0.485, 0.456, 0.406],\n",
    "                                 std=[0.229, 0.224, 0.225])])\n",
    "\n",
    "    img_trans = img_transform(img).unsqueeze(0)\n",
    "    \n",
    "    ## Return the *index* of the predicted class for that image\n",
    "    if use_cuda:\n",
    "        img_trans = img_trans.cuda()\n",
    "        \n",
    "    pred = pre_model(img_trans)\n",
    "    top_class = pred.topk(1)[1].item()\n",
    "    \n",
    "    return top_class # predicted class index"
   ]
  },
  {
   "cell_type": "code",
   "execution_count": 19,
   "metadata": {},
   "outputs": [
    {
     "name": "stdout",
     "output_type": "stream",
     "text": [
      "Number of dogs detected: 0 out of 100 humans.  Percentage: 0.0\n",
      "Number of dogs detected: 94 out of 100 dogs.  Percentage: 94.0\n"
     ]
    }
   ],
   "source": [
    "from tqdm import tqdm\n",
    "\n",
    "human_files_short = human_files[:100]\n",
    "dog_files_short = dog_files[:100]\n",
    "\n",
    "### TODO: Test the performance of the dog_detector function\n",
    "### on the images in human_files_short and dog_files_short.\n",
    "dog_true = 0;\n",
    "for img in human_files_short:\n",
    "    if dog_detector(img):\n",
    "        dog_true += 1;\n",
    "        \n",
    "print('Number of dogs detected: ' + str(dog_true) + ' out of ' + str(len(human_files_short)) + ' humans.  Percentage: ' + str((dog_true/len(human_files_short))*100))\n",
    "\n",
    "dog_true = 0;\n",
    "for img in dog_files_short:\n",
    "    if dog_detector(img):\n",
    "        dog_true += 1;\n",
    "        \n",
    "print('Number of dogs detected: ' + str(dog_true) + ' out of ' + str(len(dog_files_short)) + ' dogs.  Percentage: ' + str((dog_true/len(dog_files_short))*100))\n"
   ]
  },
  {
   "cell_type": "markdown",
   "metadata": {},
   "source": [
    "VGG16 Example"
   ]
  },
  {
   "cell_type": "code",
   "execution_count": 3,
   "metadata": {},
   "outputs": [
    {
     "name": "stdout",
     "output_type": "stream",
     "text": [
      "Pretrained VGG16 model setup... \n"
     ]
    }
   ],
   "source": [
    "import torch\n",
    "import torchvision.models as models\n",
    "\n",
    "# define VGG16 model\n",
    "pre_model = models.vgg16(pretrained=True)\n",
    "\n",
    "# check if CUDA is available\n",
    "use_cuda = torch.cuda.is_available()\n",
    "\n",
    "# move model to GPU if CUDA is available\n",
    "if use_cuda:\n",
    "    pre_model = pre_model.cuda()\n",
    "    \n",
    "print('Pretrained VGG16 model setup... ')"
   ]
  },
  {
   "cell_type": "code",
   "execution_count": 5,
   "metadata": {},
   "outputs": [],
   "source": [
    "### returns \"True\" if a dog is detected in the image stored at img_path\n",
    "def dog_detector(img_path):\n",
    "    ## TODO: Complete the function.\n",
    "    pred_class = pre_predict(img_path)\n",
    "    return pred_class >= 151 and pred_class <= 268 # true/false"
   ]
  },
  {
   "cell_type": "code",
   "execution_count": 9,
   "metadata": {},
   "outputs": [
    {
     "name": "stdout",
     "output_type": "stream",
     "text": [
      "Number of dogs detected: 0 out of 100 humans.  Percentage: 0.0\n",
      "Number of dogs detected: 93 out of 100 dogs.  Percentage: 93.0\n"
     ]
    }
   ],
   "source": [
    "from tqdm import tqdm\n",
    "\n",
    "human_files_short = human_files[:100]\n",
    "dog_files_short = dog_files[:100]\n",
    "\n",
    "### TODO: Test the performance of the dog_detector function\n",
    "### on the images in human_files_short and dog_files_short.\n",
    "dog_true = 0;\n",
    "for img in human_files_short:\n",
    "    if dog_detector(img):\n",
    "        dog_true += 1;\n",
    "        \n",
    "print('Number of dogs detected: ' + str(dog_true) + ' out of ' + str(len(human_files_short)) + ' humans.  Percentage: ' + str((dog_true/len(human_files_short))*100))\n",
    "\n",
    "dog_true = 0;\n",
    "for img in dog_files_short:\n",
    "    if dog_detector(img):\n",
    "        dog_true += 1;\n",
    "        \n",
    "print('Number of dogs detected: ' + str(dog_true) + ' out of ' + str(len(dog_files_short)) + ' dogs.  Percentage: ' + str((dog_true/len(dog_files_short))*100))\n"
   ]
  },
  {
   "cell_type": "markdown",
   "metadata": {},
   "source": [
    "ResNet Example"
   ]
  },
  {
   "cell_type": "code",
   "execution_count": 10,
   "metadata": {},
   "outputs": [],
   "source": [
    "import torch\n",
    "import torchvision.models as models\n",
    "\n",
    "# define ResNet model\n",
    "pre_model = models.resnet50(pretrained=True)\n",
    "\n",
    "# check if CUDA is available\n",
    "use_cuda = torch.cuda.is_available()\n",
    "\n",
    "# move model to GPU if CUDA is available\n",
    "if use_cuda:\n",
    "    pre_model = pre_model.cuda()"
   ]
  },
  {
   "cell_type": "code",
   "execution_count": 11,
   "metadata": {},
   "outputs": [
    {
     "name": "stdout",
     "output_type": "stream",
     "text": [
      "Number of dogs detected: 1 out of 100 humans.  Percentage: 1.0\n",
      "Number of dogs detected: 96 out of 100 dogs.  Percentage: 96.0\n"
     ]
    }
   ],
   "source": [
    "from tqdm import tqdm\n",
    "\n",
    "human_files_short = human_files[:100]\n",
    "dog_files_short = dog_files[:100]\n",
    "\n",
    "### TODO: Test the performance of the dog_detector function\n",
    "### on the images in human_files_short and dog_files_short.\n",
    "dog_true = 0;\n",
    "for img in human_files_short:\n",
    "    if dog_detector(img):\n",
    "        dog_true += 1;\n",
    "        \n",
    "print('Number of dogs detected: ' + str(dog_true) + ' out of ' + str(len(human_files_short)) + ' humans.  Percentage: ' + str((dog_true/len(human_files_short))*100))\n",
    "\n",
    "dog_true = 0;\n",
    "for img in dog_files_short:\n",
    "    if dog_detector(img):\n",
    "        dog_true += 1;\n",
    "        \n",
    "print('Number of dogs detected: ' + str(dog_true) + ' out of ' + str(len(dog_files_short)) + ' dogs.  Percentage: ' + str((dog_true/len(dog_files_short))*100))\n"
   ]
  },
  {
   "cell_type": "markdown",
   "metadata": {},
   "source": [
    "Alexnet Example"
   ]
  },
  {
   "cell_type": "code",
   "execution_count": 14,
   "metadata": {},
   "outputs": [
    {
     "name": "stderr",
     "output_type": "stream",
     "text": [
      "Downloading: \"https://download.pytorch.org/models/alexnet-owt-4df8aa71.pth\" to /home/emaggard/.torch/models/alexnet-owt-4df8aa71.pth\n",
      "100%|██████████| 244418560/244418560 [01:55<00:00, 2122888.56it/s]\n"
     ]
    }
   ],
   "source": [
    "import torch\n",
    "import torchvision.models as models\n",
    "\n",
    "# define ResNet model\n",
    "pre_model = models.alexnet(pretrained=True)\n",
    "\n",
    "# check if CUDA is available\n",
    "use_cuda = torch.cuda.is_available()\n",
    "\n",
    "# move model to GPU if CUDA is available\n",
    "if use_cuda:\n",
    "    pre_model = pre_model.cuda()"
   ]
  },
  {
   "cell_type": "code",
   "execution_count": 15,
   "metadata": {},
   "outputs": [
    {
     "name": "stdout",
     "output_type": "stream",
     "text": [
      "Number of dogs detected: 1 out of 100 humans.  Percentage: 1.0\n",
      "Number of dogs detected: 94 out of 100 dogs.  Percentage: 94.0\n"
     ]
    }
   ],
   "source": [
    "### TODO: Test the performance of the dog_detector function\n",
    "### on the images in human_files_short and dog_files_short.\n",
    "dog_true = 0;\n",
    "for img in human_files_short:\n",
    "    if dog_detector(img):\n",
    "        dog_true += 1;\n",
    "        \n",
    "print('Number of dogs detected: ' + str(dog_true) + ' out of ' + str(len(human_files_short)) + ' humans.  Percentage: ' + str((dog_true/len(human_files_short))*100))\n",
    "\n",
    "dog_true = 0;\n",
    "for img in dog_files_short:\n",
    "    if dog_detector(img):\n",
    "        dog_true += 1;\n",
    "        \n",
    "print('Number of dogs detected: ' + str(dog_true) + ' out of ' + str(len(dog_files_short)) + ' dogs.  Percentage: ' + str((dog_true/len(dog_files_short))*100))\n"
   ]
  },
  {
   "cell_type": "markdown",
   "metadata": {},
   "source": [
    "GoogleNet Example"
   ]
  },
  {
   "cell_type": "code",
   "execution_count": 17,
   "metadata": {},
   "outputs": [
    {
     "ename": "AttributeError",
     "evalue": "module 'torchvision.models' has no attribute 'googlenet'",
     "output_type": "error",
     "traceback": [
      "\u001b[0;31m---------------------------------------------------------------------------\u001b[0m",
      "\u001b[0;31mAttributeError\u001b[0m                            Traceback (most recent call last)",
      "\u001b[0;32m<ipython-input-17-421394d9620e>\u001b[0m in \u001b[0;36m<module>\u001b[0;34m()\u001b[0m\n\u001b[1;32m      3\u001b[0m \u001b[0;34m\u001b[0m\u001b[0m\n\u001b[1;32m      4\u001b[0m \u001b[0;31m# define ResNet model\u001b[0m\u001b[0;34m\u001b[0m\u001b[0;34m\u001b[0m\u001b[0m\n\u001b[0;32m----> 5\u001b[0;31m \u001b[0mpre_model\u001b[0m \u001b[0;34m=\u001b[0m \u001b[0mmodels\u001b[0m\u001b[0;34m.\u001b[0m\u001b[0mgooglenet\u001b[0m\u001b[0;34m(\u001b[0m\u001b[0mpretrained\u001b[0m\u001b[0;34m=\u001b[0m\u001b[0;32mTrue\u001b[0m\u001b[0;34m)\u001b[0m\u001b[0;34m\u001b[0m\u001b[0m\n\u001b[0m\u001b[1;32m      6\u001b[0m \u001b[0;34m\u001b[0m\u001b[0m\n\u001b[1;32m      7\u001b[0m \u001b[0;31m# check if CUDA is available\u001b[0m\u001b[0;34m\u001b[0m\u001b[0;34m\u001b[0m\u001b[0m\n",
      "\u001b[0;31mAttributeError\u001b[0m: module 'torchvision.models' has no attribute 'googlenet'"
     ]
    }
   ],
   "source": [
    "import torch\n",
    "import torchvision.models as models\n",
    "\n",
    "# define ResNet model\n",
    "pre_model = models.googlenet(pretrained=True)\n",
    "\n",
    "# check if CUDA is available\n",
    "use_cuda = torch.cuda.is_available()\n",
    "\n",
    "# move model to GPU if CUDA is available\n",
    "if use_cuda:\n",
    "    pre_model = pre_model.cuda()"
   ]
  },
  {
   "cell_type": "code",
   "execution_count": null,
   "metadata": {},
   "outputs": [],
   "source": []
  }
 ],
 "metadata": {
  "kernelspec": {
   "display_name": "Python 3",
   "language": "python",
   "name": "python3"
  },
  "language_info": {
   "codemirror_mode": {
    "name": "ipython",
    "version": 3
   },
   "file_extension": ".py",
   "mimetype": "text/x-python",
   "name": "python",
   "nbconvert_exporter": "python",
   "pygments_lexer": "ipython3",
   "version": "3.5.2"
  }
 },
 "nbformat": 4,
 "nbformat_minor": 2
}
